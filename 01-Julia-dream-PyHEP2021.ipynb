{
 "cells": [
  {
   "cell_type": "markdown",
   "id": "bda53ff3-7ee5-4f17-824b-6a979ef10ed6",
   "metadata": {},
   "source": [
    "_Next cell is used to modify display setting for a presentation style._"
   ]
  },
  {
   "cell_type": "code",
   "execution_count": 12,
   "id": "a26ab57b-021a-438d-896a-8662e22a44ab",
   "metadata": {
    "jupyter": {
     "source_hidden": true
    },
    "tags": []
   },
   "outputs": [
    {
     "data": {
      "text/html": [
       "<style>\n",
       "  /* resize the input editor and output area */\n",
       "  div.jp-Editor div { font-size: 25px; }\n",
       "  div.jp-OutputArea-output pre { font-size: 25px; }\n",
       "\n",
       "  /* resize the markdown output */\n",
       "  div.jp-MarkdownOutput { font-size: 25px; }\n",
       "  div.jp-MarkdownOutput li { font-size: 25px; }\n",
       "\n",
       "#   /* Shadow around markdown output cells */\n",
       "#   div.jp-MarkdownOutput { box-shadow: 0 4px 8px 0 rgba(0, 0, 0, 0.2), 0 6px 20px 0 rgba(0, 0, 0, 0.19);}\n",
       "#   div.jp-MarkdownOutput {\n",
       "#     padding: 10px 10px 50px 50px;\n",
       "#   }\n",
       "\n",
       "  /* Frame around markdown output cells */\n",
       "  div.jp-MarkdownOutput { border-style: solid; border-color: #a6a6a6;}\n",
       "  div.jp-MarkdownOutput {\n",
       "    padding: 10px 10px 50px 50px;\n",
       "  }\n",
       "\n",
       "</style>\n",
       "<body>\n",
       "<h1>Presentation mode. Clear the output of this cell to exit the mode.</h1>\n",
       "<p><h2>Use j (next) and k (previous) keys to navigate between cells.</h2>\n",
       "</body>\n"
      ],
      "text/plain": [
       "HTML{String}(\"<style>\\n  /* resize the input editor and output area */\\n  div.jp-Editor div { font-size: 25px; }\\n  div.jp-OutputArea-output pre { font-size: 25px; }\\n\\n  /* resize the markdown output */\\n  div.jp-MarkdownOutput { font-size: 25px; }\\n  div.jp-MarkdownOutput li { font-size: 25px; }\\n\\n#   /* Shadow around markdown output cells */\\n#   div.jp-MarkdownOutput { box-shadow: 0 4px 8px 0 rgba(0, 0, 0, 0.2), 0 6px 20px 0 rgba(0, 0, 0, 0.19);}\\n#   div.jp-MarkdownOutput {\\n#     padding: 10px 10px 50px 50px;\\n#   }\\n\\n  /* Frame around markdown output cells */\\n  div.jp-MarkdownOutput { border-style: solid; border-color: #a6a6a6;}\\n  div.jp-MarkdownOutput {\\n    padding: 10px 10px 50px 50px;\\n  }\\n\\n</style>\\n<body>\\n<h1>Presentation mode. Clear the output of this cell to exit the mode.</h1>\\n<p><h2>Use j (next) and k (previous) keys to navigate between cells.</h2>\\n</body>\\n\")"
      ]
     },
     "execution_count": 12,
     "metadata": {},
     "output_type": "execute_result"
    }
   ],
   "source": [
    "singleCellDisplay = false\n",
    "editor_font_size = 25\n",
    "code_output_font_size = 25\n",
    "markdown_output_font_size = 25\n",
    "markdown_list_font_size = 25\n",
    "HTML(\"\"\"\n",
    "<style>\n",
    "\"\"\" * (singleCellDisplay ? \"\"\"\n",
    "  /*Displays the selected cell only*/\n",
    "  .jp-NotebookPanel-notebook > .jp-Cell:not(.jp-mod-selected) { display: none; }\n",
    "  div.unselected { display: none; }\n",
    "\"\"\" : \"\") * \"\"\"\n",
    "  /* resize the input editor and output area */\n",
    "  div.jp-Editor div { font-size: $(editor_font_size)px; }\n",
    "  div.jp-OutputArea-output pre { font-size: $(code_output_font_size)px; }\n",
    "\n",
    "  /* resize the markdown output */\n",
    "  div.jp-MarkdownOutput { font-size: $(markdown_output_font_size)px; }\n",
    "  div.jp-MarkdownOutput li { font-size: $(markdown_list_font_size)px; }\n",
    "\n",
    "#   /* Shadow around markdown output cells */\n",
    "#   div.jp-MarkdownOutput { box-shadow: 0 4px 8px 0 rgba(0, 0, 0, 0.2), 0 6px 20px 0 rgba(0, 0, 0, 0.19);}\n",
    "#   div.jp-MarkdownOutput {\n",
    "#     padding: 10px 10px 50px 50px;\n",
    "#   }\n",
    "\n",
    "  /* Frame around markdown output cells */\n",
    "  div.jp-MarkdownOutput { border-style: solid; border-color: #a6a6a6;}\n",
    "  div.jp-MarkdownOutput {\n",
    "    padding: 10px 10px 50px 50px;\n",
    "  }\n",
    "\n",
    "</style>\n",
    "<body>\n",
    "<h1>Presentation mode. Clear the output of this cell to exit the mode.</h1>\n",
    "<p><h2>Use j (next) and k (previous) keys to navigate between cells.</h2>\n",
    "</body>\n",
    "\"\"\")"
   ]
  },
  {
   "cell_type": "code",
   "execution_count": null,
   "id": "57c90a10-c8b4-47f8-8bb8-9bbf14058c66",
   "metadata": {},
   "outputs": [],
   "source": []
  },
  {
   "cell_type": "markdown",
   "id": "2ba91127-2e73-4bb4-bc2c-6ee77392c36e",
   "metadata": {
    "tags": []
   },
   "source": [
    "# PyHEP 2021 \n",
    "<span style=\"position:absolute;top:0px;right:20px;\"><img src=\"img/irfu_logo.jpg\" width=\"120px\"/></span>\n",
    "\n",
    "----------\n",
    "\n",
    "</br></br></br>\n",
    "\n",
    "\n",
    "<div style=\"height:500px;\">\n",
    "<div style=\"margin-left:10%;\">\n",
    "    \n",
    "    <h1>Julia, a HEP dream comes true</h1>\n",
    "    \n",
    "    Philippe Gras (Université Paris-Saclay, CEA/Irfu)\n",
    "</div>\n",
    "\n",
    "<div style=\"position:absolute; bottom:10px;\">July 9th, 2021</div>\n",
    "    </div>"
   ]
  },
  {
   "cell_type": "markdown",
   "id": "527db46a-1650-4a50-8351-67222923a458",
   "metadata": {},
   "source": [
    "# Introduction\n",
    "\n",
    "## Julia is a new __programming language__\n",
    "## I've discovered it while making a survey of programming language for the projet of CUPID neutrinoless double-beta decay experiment, in last April\n",
    "   * It's a new programming language for me\n",
    "   * I've learned it for this talk and it was as fast as learning Python (actually faster because of their similarities)\n",
    "   \n",
    "## I will present Julia to you in the perspective of using it for HEP applications"
   ]
  },
  {
   "cell_type": "markdown",
   "id": "demographic-nicaragua",
   "metadata": {
    "tags": []
   },
   "source": [
    "# High performance computing is important for HEP\n",
    "\n",
    "<div style=\"display:flex;\">\n",
    "    <div style=\"width:25%;\">\n",
    "    <div><a href=\"https://doi.org/10.1088/1742-6596/1085/2/022006\">From E Sexton-Kennedy 2018 J. Phys.: Conf. Ser. 1085 022006</a></br>\n",
    "        THS06*s: Tera CPUs $\\times$ s</br></br></br>\n",
    "</div>\n",
    "</div>\n",
    "    <div style=\"width:70%;\"><img alt=\"CMS computing needs\" src=\"img/CMS_computing_needs.png\"/></div>\n",
    "</div>\n",
    "\n",
    "   * Computing plays a central role in the research done at LHC\n",
    "     + Theoretical predictions: simulation of the proton-proton collisions\n",
    "     + Simulation of the detector response\n",
    "     + Reconstruction of the phyics events\n",
    "     + Analysis of reconstructed events to perform measurements and new physics search."
   ]
  },
  {
   "cell_type": "markdown",
   "id": "21a5c5fa-eeeb-459e-8e07-f1306c3d2304",
   "metadata": {},
   "source": [
    "# Analysis of the reconstructed events\n",
    "  * Behind an LHC experiment result publication there are <b>tens of thousands</b> of computing jobs that have run on the worldwide computing grid. Both ATLAS and CMS reached their 1000th papers in June 2020.\n",
    "   * C++ is widely used and the performance it offers is essential\n",
    "   * Research code: developped by the main authors of the prepared publication\n",
    "   * Python is attractive becasue of its easy/fast code writing it offers and the library ecosystem that comes with it and we are many to use it. But it does not meet the performance provided by C++\n",
    "       + Used in conjunction of C++\n",
    "       + Huge development under way to leverage the performance of Python in terms of code running speed\n",
    "   * __More attracive would be a Programming language that offers at the same time the C++ and Python pros__"
   ]
  },
  {
   "cell_type": "markdown",
   "id": "62d38060-8798-42e1-9a0b-2af3e7b8a1c7",
   "metadata": {},
   "source": [
    "# Julia solving the two-language problem\n",
    "-----\n",
    "\n",
    "   <center>\n",
    "    <table style=\"font-size:30px;background:inherit;\">\n",
    "   <tr><th>Fast/easy coding fast</th><th><b></b></th><th>Fast running</th></tr>\n",
    "   <tr><td>Python                </td><td>⇔</td><td>C/C++</td></tr>\n",
    "   </table>\n",
    "   =>  Mixing languages and Go back-and-forth between them\n",
    "   </center>\n",
    "\n",
    "</br>\n",
    "\n",
    "* J. Bezanson, A. Edelman, S. Karpinski, and V. B. Shah tackled the problem in 2009 aiming to design a programing langue that providess both Fast/easy coding __AND__ Fast running\n",
    "   + Birth of Julia,  release 0.1 in __2013__ \n",
    "   + This breakthrough was recognized by awards attributed to the authors\n",
    "      - [James H. Wilkinson Prize in Numerical Analysis and Scientific in 2019](https://www.ll.mit.edu/news/wilkinson-prize-goes-developers-flexible-julia-programming-language) \n",
    "      - [IEEE Computer Society Sidney Fernbach Award in 2019](https://www.computer.org/press-room/2019-news/2019-ieee-fernbach-award-edelman)\n",
    "* In 12 years since its conceptualisation, Julia has been improved from release to release and has aggratated many package developpers\n",
    "\n",
    "* Julia for HEP: [Performance of Julia for High Energy Physics Analyses, Marcel Stanitzki & Jan Strube](https://link.springer.com/article/10.1007/s41781-021-00053-3)\n",
    "\n",
    "\n",
    "      \n",
    "<div style=\"border: 5px darkgreen; border-style: none none none solid; padding:10px;margin-left:30px;\">\n",
    "    <h3>Nowadays, Julia is a mature language, with a wide ecosystem</h3>\n",
    "    </div>\n",
    "</div>\n",
    "\n"
   ]
  },
  {
   "cell_type": "markdown",
   "id": "legendary-sampling",
   "metadata": {},
   "source": [
    "# Loops\n",
    "\n",
    "<center>\n",
    "<img alt=\"A python loop\" src=\"img/snake-1546033.jpg\" width=\"80%\"/>\n",
    "</center>"
   ]
  },
  {
   "cell_type": "markdown",
   "id": "outside-apartment",
   "metadata": {},
   "source": [
    "# HEP data analysis is a looping game\n",
    "\n",
    "HEP enjoys loop: we loop on physics events to loop on particles/physics objects. We often perform particle matching and clustering and for this we loop on events to loop on objects to loop on objects.\n",
    "\n",
    "```julia\n",
    "for event in billions_of_lhc_events\n",
    "    for tens_or_hundreds_of_objects in event\n",
    "        for tens_or_hundres_of_objects_to_match in event\n",
    "            ...\n",
    "        end\n",
    "    end\n",
    "end\n",
    "```\n",
    "\n",
    " * The outter loops hides several loops: datasets > files\n",
    " * This is repeated several times for each analysis.\n",
    "<p style=\"margin-left:2em;\"> ⇒ Lines of code executed billions of times even for a Kleenex code, written specially for a publication.</p>"
   ]
  },
  {
   "cell_type": "markdown",
   "id": "c7f88121",
   "metadata": {},
   "source": [
    "## Python dislikes loop\n",
    "\n",
    " * A master rule for high-performance code in Python is to avoid writing loop in Python \n",
    "    + ⇒ push the loop to underlying compiled libraries. Approach of the `numpy` vectorisation.\n",
    " \n",
    "Let's run a simple loop\n",
    " \n",
    "[Simple loop in Python](Python-code.ipynb#simple-loop)"
   ]
  },
  {
   "cell_type": "markdown",
   "id": "7e87ebd7-31da-4d23-a15f-ea90dc553b6f",
   "metadata": {},
   "source": [
    "| Python |\n",
    "|--------|\n",
    "|  90 ms |"
   ]
  },
  {
   "cell_type": "markdown",
   "id": "de449e8a-809f-49ed-92cb-4ef01554d1bf",
   "metadata": {},
   "source": [
    "## In C++. Code in `simple-loop.cc`:\n",
    "\n",
    "```cpp\n",
    "#include <iostream>\n",
    "#include <sys/time.h>x\n",
    "\n",
    "int main(){\n",
    "  struct timeval t0, t1;\n",
    "  gettimeofday(&t0, 0);\n",
    "    \n",
    "  double a = 0.;\n",
    "  for(unsigned i = 0; i <= 1000000; ++i) a += 1.0/i;\n",
    "  std::cout << \"Computation Result: \" << a << \"\\n\";\n",
    "  \n",
    "  gettimeofday(&t1, 0);\n",
    "  std::cerr << \"Duration: \" << (t1.tv_sec-t0.tv_sec)\n",
    "    + 1.e-6*(t1.tv_usec-t0.tv_usec)\n",
    "\t    << \" seconds\\n\";\n",
    "  return 0;\n",
    "}\n",
    "```"
   ]
  },
  {
   "cell_type": "code",
   "execution_count": 13,
   "id": "b914e148-86e3-4de0-9155-1849c66603f4",
   "metadata": {},
   "outputs": [
    {
     "name": "stdout",
     "output_type": "stream",
     "text": [
      "Computation Result: 14.3927\n"
     ]
    },
    {
     "name": "stderr",
     "output_type": "stream",
     "text": [
      "Duration: 0.003672 seconds\n"
     ]
    },
    {
     "name": "stdout",
     "output_type": "stream",
     "text": [
      "Computation Result: 14.3927\n"
     ]
    },
    {
     "name": "stderr",
     "output_type": "stream",
     "text": [
      "Duration: 0.001677 seconds\n"
     ]
    }
   ],
   "source": [
    "run(`g++ -Wall -o simple-loop simple-loop.cc`)\n",
    "run(`./simple-loop`)\n",
    ";\n",
    "run(`g++ -O3 -Wall -o simple-loop simple-loop.cc`)\n",
    "run(`./simple-loop`)\n",
    ";"
   ]
  },
  {
   "cell_type": "markdown",
   "id": "261eaf0d-85c3-4cbe-ad23-be8031148137",
   "metadata": {},
   "source": [
    "| Python |  C++  |\n",
    "|--------|-------|\n",
    "| 90 ms  | 1.5 ms |"
   ]
  },
  {
   "cell_type": "markdown",
   "id": "d235f987-a157-4bb7-9aea-609edd9126e8",
   "metadata": {},
   "source": [
    "## How is doing Julia?"
   ]
  },
  {
   "cell_type": "code",
   "execution_count": 14,
   "id": "ebf7c4e9-0851-486e-8a7c-944b212b67b0",
   "metadata": {
    "tags": []
   },
   "outputs": [
    {
     "name": "stdout",
     "output_type": "stream",
     "text": [
      "  0.001672 seconds (1 allocation: 16 bytes)\n"
     ]
    },
    {
     "data": {
      "text/plain": [
       "14.392726722864989"
      ]
     },
     "execution_count": 14,
     "metadata": {},
     "output_type": "execute_result"
    }
   ],
   "source": [
    "#\n",
    "# Julia\n",
    "#\n",
    "function f()\n",
    "    a = 0.0\n",
    "    for i in 1:1_000_000 # ✨ Note the underscores that improves legibility\n",
    "       a = a + 1.0/i\n",
    "    end\n",
    "    return a\n",
    "end\n",
    "f()\n",
    "@time b = f()"
   ]
  },
  {
   "cell_type": "markdown",
   "id": "c91f2f0f-e963-43fd-bf54-85e021e0dcf7",
   "metadata": {},
   "source": [
    "| Python | C++    | Julia  |\n",
    "|--------|--------|--------|\n",
    "|  90ms  | 1.5 ms | 1.6 ms |"
   ]
  },
  {
   "cell_type": "markdown",
   "id": "084c9d64-9eff-4aeb-a8c6-51a4906f8fec",
   "metadata": {},
   "source": [
    "# Ease of programming\n",
    "\n",
    "## The goal is not only running performance. We want also fast and easy coding\n",
    "\n",
    "   * You have already seen in the previous example that the code syntax and grammar is similar to Pythons. No ''std::map<std:string, std::vector<MyClass>>''..., no compilation step."
   ]
  },
  {
   "cell_type": "markdown",
   "id": "e2572361-9b37-4891-9592-5b050a4029e8",
   "metadata": {},
   "source": [
    "# Programming in a community"
   ]
  },
  {
   "cell_type": "markdown",
   "id": "behavioral-mining",
   "metadata": {},
   "source": [
    "## Googling programming\n",
    "\n",
    "Internet search engine and stack overflow play is an essential ingredient in nowadays programming workflow.\n",
    "\n",
    "Julia is already widespread enough, to find all the information on the Internet.</br>\n",
    "\n",
    "Go to [DuckDuckGo](https://www.duckduckgo.com) or your prefered search engine and make a try.\n",
    "\n"
   ]
  },
  {
   "cell_type": "markdown",
   "id": "fd0ced5b-6eee-426a-9b4c-035dea81a0cc",
   "metadata": {},
   "source": [
    "# Ecosystem\n",
    "\n",
    "* Large set of libraries and active developement\n",
    "   + Julia is firstly used by scientific community  ⇒ oriented to our needs\n",
    "* I did the following game during the wokshop: I've looked for a Julia equivalent each time a speaker mention a Python library (apart from HEP specific ones).\n",
    "   + Caveat: I've not checked that it covers all the features of the Python package\n",
    "   + The results of this survey shows the large activity around Julia\n",
    "\n",
    "cmd (Olivier Mattelaer) ✓</br>\n",
    "FreeCAD interface (Christophe Delaere) ❌ [In discussion](https://forum.freecadweb.org/viewtopic.php?f=8&t=42400&sid=77306c4ad6e62533dfbf06909b06c0c8&start=10)</br>\n",
    "Telegram bot (Matias Senge) ✓ https://github.com/Arkoniak/Telegram.jl</br>\n",
    "DataFrames (Vincenzo Eduardo Padulano)  ✓</br>\n",
    "Spark (Vicenzo and Andr F.)  ✓ https://github.com/dfdx/Spark.jl</br>\n",
    "Dask (Vincenzo E. P., Graham Markal) ✓</br>\n",
    "Batch computing (Vincenzo E. P.)  ✓ https://docs.julialang.org/en/v1/manual/parallel-computing/, https://github.com/JuliaParallel, https://juliagpu.org/</br>\n",
    "Apache Parquet  (Andre Frankenthal)  ✓</br>\n",
    "Jupyter/Binder/SWAN ✓</br>\n",
    "Bokeh (Bruno Alves)  ✓ https://github.com/samuelcolvin/Bokeh.jl</br>\n",
    "CUDA (Graham Markall) ✓ https://juliagpu.org/cuda/</br>\n",
    "Hypothesis (Santam Roy Choudhury, property testing)  ❌ ([besised an unmaintained QuickCheck projet](https://quickcheckjl.readthedocs.io/))</br>\n",
    "Virtualenv (Henry Schneider, Packaging talk) ✓ [built in the std package manager](https://pkgdocs.julialang.org/v1/environments/)</br>\n",
    "Unit test tools (Henry Schneider, Packaging talk)  ✓ [std package](https://docs.julialang.org/en/v1/stdlib/Test/) and more: [Coverage](https://github.com/JuliaCI/Coverage.jl), [FactCheck](https://github.com/JuliaAttic/FactCheck.jl)</br>\n",
    "JIT/Numba (Graham Markal, Henry Schneider) ✓ [Intrisic to the language](https://docs.julialang.org/en/v1/#man-introduction)</br>\n",
    "Machine learning ✓ [Flux](https://fluxml.ai/), [JuliaML](https://juliaml.github.io/), &nbsp;&nbsp;TensorFlow( )[TensorFlow](https://github.com/malmaud/TensorFlow.jl)</br>\n",
    "&nbsp;&nbsp;GPyTorch/Gaussian Process ML (Irina Espejo Morales [talk](https://indico.cern.ch/event/1019958/timetable/#14-active-learning-for-level-s)) [GPML](https://github.com/JuliaGaussianProcesses/GPMLj.jl)\n",
    "\n",
    "<!-- HEP software \n",
    "ROOT I/O ... [\\*](#fn1)</br>\n",
    "funcX () ❌\n",
    "pyhf, cabinatery\n",
    "<a href=\"fn1\">*</a> Two packages exists for ROOTIO, but with limited features. [UpROOT.jl](https://github.com/JuliaHEP/UpROOT.jl) (binding to uproot) and [UnROOT](https://github.com/JuliaHEP/ROOT.jl) (pure Julia).    \n",
    "-->\n"
   ]
  },
  {
   "cell_type": "markdown",
   "id": "450cbd31-e8e9-438b-b287-6571acd700d8",
   "metadata": {},
   "source": [
    "# Data format support\n",
    "\n",
    "* Non-HEP format\n",
    "  + HDF5 and Parquet are fully supported (also CSV and Excel, less relevant our data size)\n",
    "* ROOT\n",
    "  + Missing a solid and performant library to read ROOT file and with xroot support.\n",
    "  + Two packages developped by users.\n",
    "     - [UpROOT.jl](https://github.com/JuliaPy/PyCall.jl) from Oliver Schulz. A wrapper to [uproot](https://github.com/scikit-hep/uproot3) \n",
    "     - [UnROOT.jl](https://github.com/tamasgal/UnROOT.jl) from Tamas Gal and Jerry Ling. Port of uproot in Julia. Can read KM3Net data and tree of simple type and/or vector of simple type like CMS NanoAOD. Johannes Schumann mentionned yesterday in his [talk](https://indico.cern.ch/event/1019958/timetable/#9-python-based-tools-and-frame)"
   ]
  },
  {
   "cell_type": "markdown",
   "id": "c3db8c57",
   "metadata": {},
   "source": [
    "# Advanced tools\n",
    "\n",
    "## IDE\n",
    "   * Emacs and vim support\n",
    "   * Atom and VScode support. Many features. Code can be run and debugged with the IDE, with support for plots.\n",
    "\n",
    "## Notebooks\n",
    "   * <b>Ju</b>pyter\n",
    "   * [Pluto](https://github.com/fonsp/Pluto.jlhttps://github.com/fonsp/Pluto.jl). A new generation notebook with automatic update of cells.\n",
    "   * Debugger: Debugger, Rebugger, Juno debugger (for Atom IDE)\n",
    "    \n",
    "    \n",
    "## Package installation\n",
    "   * Python made it easy with conda and pip. It's even easier in Julia\n",
    "      + A standard library part of the Julia installation\n",
    "      + Give instructions to the user, when he or she try to import a missing package. Try it:"
   ]
  },
  {
   "cell_type": "code",
   "execution_count": 4,
   "id": "43a3c214-d79b-499f-ae17-54f2dce639b5",
   "metadata": {},
   "outputs": [
    {
     "ename": "LoadError",
     "evalue": "ArgumentError: Package Blink not found in current path:\n- Run `import Pkg; Pkg.add(\"Blink\")` to install the Blink package.\n",
     "output_type": "error",
     "traceback": [
      "ArgumentError: Package Blink not found in current path:\n- Run `import Pkg; Pkg.add(\"Blink\")` to install the Blink package.\n",
      "",
      "Stacktrace:",
      " [1] require(into::Module, mod::Symbol)",
      "   @ Base ./loading.jl:871",
      " [2] eval",
      "   @ ./boot.jl:360 [inlined]",
      " [3] include_string(mapexpr::typeof(REPL.softscope), mod::Module, code::String, filename::String)",
      "   @ Base ./loading.jl:1094"
     ]
    }
   ],
   "source": [
    "import Blink"
   ]
  },
  {
   "cell_type": "markdown",
   "id": "427c5e02-ad4e-4da5-b889-00e9fa4d3d63",
   "metadata": {},
   "source": [
    "💡 Dedicated command mode for package handling in the REPL (interactive terminal application equivalent ipython):\n",
    "```julia-repl\n",
    "julia> ]\n",
    "(@v1.6) pkg> add Grady\n",
    "(@v1.6) pkg> [Backspace]\n",
    "julia>\n",
    "```"
   ]
  },
  {
   "cell_type": "markdown",
   "id": "d62ddb94",
   "metadata": {},
   "source": [
    "# Interoperability\n",
    "\n",
    "<center>\n",
    "    <div>\n",
    "<img alt='\"Plug adaptors\" by dogwelder is licensed under CC BY-NC 2.0' src=\"img/plugs.jpg\" width=\"60%\"/><br>\n",
    "    <span style=\"font-size:14px;text-align:left;\">\"Credits: Karen V Bryan is licensed under CC BY-ND 2.0</span>\n",
    "    </div>\n",
    "</center>\n",
    "\n",
    "* Python, C, Fortran code: direct call from Julia and Jupyter Julia kernels\n",
    "* C++ code: call via a wrapper. Lacking a tool for automatic generation of wrapper like swig. Project for direct-call (ala cppyy) on hold and not working for recent versions of Julia.\n",
    "\n",
    "The other way around\n",
    "\n",
    "* Python code can call Julia as well"
   ]
  },
  {
   "cell_type": "markdown",
   "id": "27bc2a1b-7fe5-4942-884c-1b1741f7a73f",
   "metadata": {},
   "source": [
    "# Calling Python from Julia\n",
    "\n",
    "As simple as calling Julia code"
   ]
  },
  {
   "cell_type": "code",
   "execution_count": 5,
   "id": "461e51f3-647b-4566-891c-6840c5d577da",
   "metadata": {},
   "outputs": [
    {
     "data": {
      "text/plain": [
       "0.7071067811865475"
      ]
     },
     "execution_count": 5,
     "metadata": {},
     "output_type": "execute_result"
    }
   ],
   "source": [
    "# Enable Python call:\n",
    "using PyCall\n",
    "\n",
    "# Inport a python module:\n",
    "math = pyimport(\"math\")\n",
    "\n",
    "# Use it as a Julia module:\n",
    "math.sin(math.pi / 4)"
   ]
  },
  {
   "cell_type": "markdown",
   "id": "ce6da619",
   "metadata": {},
   "source": [
    "# Calling C from Julia"
   ]
  },
  {
   "cell_type": "code",
   "execution_count": 6,
   "id": "03fbd939",
   "metadata": {},
   "outputs": [
    {
     "data": {
      "text/plain": [
       "\"/bin/bash\""
      ]
     },
     "execution_count": 6,
     "metadata": {},
     "output_type": "execute_result"
    }
   ],
   "source": [
    "path = ccall(:getenv, Cstring, (Cstring,), \"SHELL\")\n",
    "unsafe_string(path)"
   ]
  },
  {
   "cell_type": "markdown",
   "id": "8eaf62ef",
   "metadata": {},
   "source": [
    "For C, you will typically write a wrapper in ''Julia'' to handle errors, like:"
   ]
  },
  {
   "cell_type": "code",
   "execution_count": 7,
   "id": "497fec73",
   "metadata": {},
   "outputs": [
    {
     "data": {
      "text/plain": [
       "getenv (generic function with 1 method)"
      ]
     },
     "execution_count": 7,
     "metadata": {},
     "output_type": "execute_result"
    }
   ],
   "source": [
    "function getenv(var::AbstractString)\n",
    "    val = ccall(:getenv, Cstring, (Cstring,), var)\n",
    "    if val == C_NULL\n",
    "        error(\"getenv: undefined variable: \", var)\n",
    "    end\n",
    "    return unsafe_string(val)\n",
    "end"
   ]
  },
  {
   "cell_type": "code",
   "execution_count": 8,
   "id": "409d2d27",
   "metadata": {},
   "outputs": [
    {
     "name": "stdout",
     "output_type": "stream",
     "text": [
      "pgras\n"
     ]
    },
    {
     "ename": "LoadError",
     "evalue": "getenv: undefined variable: SMOKE",
     "output_type": "error",
     "traceback": [
      "getenv: undefined variable: SMOKE",
      "",
      "Stacktrace:",
      " [1] error(::String, ::String)",
      "   @ Base ./error.jl:42",
      " [2] getenv(var::String)",
      "   @ Main ./In[7]:4",
      " [3] top-level scope",
      "   @ In[8]:2",
      " [4] eval",
      "   @ ./boot.jl:360 [inlined]",
      " [5] include_string(mapexpr::typeof(REPL.softscope), mod::Module, code::String, filename::String)",
      "   @ Base ./loading.jl:1094"
     ]
    }
   ],
   "source": [
    "println(getenv(\"USER\"))\n",
    "println(getenv(\"SMOKE\")) # ⇒ will through an exception unless you have SMOKE in your environment "
   ]
  },
  {
   "cell_type": "markdown",
   "id": "8c1bcc56",
   "metadata": {},
   "source": [
    "# Calling Julia from python\n",
    "\n",
    "```python\n",
    "$ python3 -m pip install julia    # install PyJulia\n",
    "...                               # you may need `--user` after `install`\n",
    "\n",
    "$ python3\n",
    ">>> import julia\n",
    ">>> julia.install()               # install PyCall.jl etc.\n",
    ">>> from julia import Base        # short demo\n",
    ">>> Base.sind(90)\n",
    "1.0\n",
    "```"
   ]
  },
  {
   "cell_type": "markdown",
   "id": "d8eec976",
   "metadata": {},
   "source": [
    "# Embedding Julia code in a Python notebook\n",
    "\n",
    "<a href=\"Julia_from_IPython.ipynb\"><img alt=\"Calling julia code from IPython\" src=\"img/julia_from_python.jpg\"/>\n",
    "         "
   ]
  },
  {
   "cell_type": "markdown",
   "id": "b272d46e-3395-454b-bfa6-21f0aef9487d",
   "metadata": {},
   "source": [
    "# Let's use Julia for HEP example\n",
    "\n",
    "## CMS dimuon analysis \n",
    "\n",
    "   > ⚡ It's an extremely simple analysis, way far from usual LHC analysis\n",
    "\n",
    "   > Let's go,\n",
    "   \n",
    "   * [Dimuon spectrum in Julia](dimu/diMuon-bin-jl.ipynb)\n",
    "  <!-- * [Dimuon spectrum in Python](dimu/diMuon-bin-py.ipynb) -->"
   ]
  },
  {
   "cell_type": "code",
   "execution_count": null,
   "id": "08cb8517",
   "metadata": {},
   "outputs": [],
   "source": []
  },
  {
   "cell_type": "markdown",
   "id": "13e38ba4-d873-4919-821f-fb4502890444",
   "metadata": {},
   "source": [
    "# Conclusions\n",
    "\n",
    "* Julia offers the code running performance of C++, with the same programming language the ease of programming of Python, and a large Ecosystem\n",
    "* Julia is the ideal language for our usage\n",
    "* It's now mature enough to be used for HEP\n",
    "   + It's the right time to catch the Julia's train\n",
    "   + Needs developers to provides tools, especially for ROOT I/O and a ROOT binding\n",
    "   + Needs to be advertised to users. Most of the Physicist does not know it.\n",
    "\n",
    "\n",
    "_Thanks to Jim Pivarski for the tricks to turn out a notebook in a presentations and the nice tutorial he gave on the subject_"
   ]
  }
 ],
 "metadata": {
  "kernelspec": {
   "display_name": "Julia 1.6.1",
   "language": "julia",
   "name": "julia-1.6"
  },
  "language_info": {
   "file_extension": ".jl",
   "mimetype": "application/julia",
   "name": "julia",
   "version": "1.6.1"
  }
 },
 "nbformat": 4,
 "nbformat_minor": 5
}
