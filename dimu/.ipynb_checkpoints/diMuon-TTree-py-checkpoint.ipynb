{
 "cells": [
  {
   "cell_type": "markdown",
   "id": "473d7730",
   "metadata": {},
   "source": [
    "We will use ROOT and numpy."
   ]
  },
  {
   "cell_type": "code",
   "execution_count": null,
   "id": "occasional-sensitivity",
   "metadata": {},
   "outputs": [],
   "source": [
    "import ROOT as R\n",
    "#import numpy as np"
   ]
  },
  {
   "cell_type": "markdown",
   "id": "5adf7d10",
   "metadata": {},
   "source": [
    "### Input file"
   ]
  },
  {
   "cell_type": "code",
   "execution_count": null,
   "id": "e680c730",
   "metadata": {},
   "outputs": [],
   "source": [
    "fname = \"Run2012BC_DoubleMuParked_Muons.root\""
   ]
  },
  {
   "cell_type": "code",
   "execution_count": null,
   "id": "amazing-hearts",
   "metadata": {},
   "outputs": [],
   "source": [
    "f = TTFile(\"fname\")"
   ]
  },
  {
   "cell_type": "code",
   "execution_count": 3,
   "id": "interim-paradise",
   "metadata": {},
   "outputs": [],
   "source": [
    "tree = f.Events"
   ]
  },
  {
   "cell_type": "code",
   "execution_count": null,
   "id": "fossil-footwear",
   "metadata": {
    "deletable": false,
    "editable": false,
    "run_control": {
     "frozen": true
    },
    "scrolled": false
   },
   "outputs": [],
   "source": [
    "tree.Print()"
   ]
  },
  {
   "cell_type": "code",
   "execution_count": 4,
   "id": "racial-outline",
   "metadata": {},
   "outputs": [],
   "source": [
    "def select(event):\n",
    "    return     event.nMuon == 2 \\\n",
    "           and event.Muon_charge[0] != event.Muon_charge[1]\n",
    "    \n",
    "def dimu_mass(event):\n",
    "    p = [ R.Math.PtEtaPhiMVector(event.Muon_pt[i], event.Muon_eta[i], \n",
    "                                 event.Muon_phi[i], event.Muon_mass[i]) for i in range(2) ]\n",
    "    return (p[0] + p[1]).M()\n",
    "         "
   ]
  },
  {
   "cell_type": "code",
   "execution_count": 5,
   "id": "subjective-turkey",
   "metadata": {},
   "outputs": [],
   "source": [
    "bins = 30000 # Number of bins in the histogram\n",
    "low = 0.25 # Lower edge of the histogram\n",
    "up = 300.0 # Upper edge of the histogram\n",
    "hmass = R.TH1D(\"hmass\", \"Dimuon mass\", bins, low, up)"
   ]
  },
  {
   "cell_type": "code",
   "execution_count": 6,
   "id": "adult-mambo",
   "metadata": {},
   "outputs": [
    {
     "name": "stdout",
     "output_type": "stream",
     "text": [
      "CPU times: user 4h 53min 40s, sys: 50.9 s, total: 4h 54min 31s\n",
      "Wall time: 4h 54min 20s\n"
     ]
    }
   ],
   "source": [
    "%%time\n",
    "for e in tree:\n",
    "    if select(e):\n",
    "        hmass.Fill(dimu_mass(e))"
   ]
  },
  {
   "cell_type": "markdown",
   "id": "superb-homework",
   "metadata": {},
   "source": [
    "CPU times: user 4h 53min 40s, sys: 50.9 s, total: 4h 54min 31s\n",
    "Wall time: 4h 54min 20s"
   ]
  },
  {
   "cell_type": "code",
   "execution_count": 8,
   "id": "cathedral-disposal",
   "metadata": {},
   "outputs": [],
   "source": [
    "R.gStyle.SetOptStat(0)\n",
    "R.gStyle.SetTextFont(42)\n",
    "c = R.TCanvas(\"c\", \"\", 800, 700)\n",
    "c.SetLogx()\n",
    "c.SetLogy();"
   ]
  },
  {
   "cell_type": "code",
   "execution_count": null,
   "id": "sustained-substance",
   "metadata": {},
   "outputs": [],
   "source": [
    "label = ROOT.TLatex()\n",
    "label.SetTextAlign(22)\n",
    "label.DrawLatex(0.55, 3.0e4, \"#eta\")\n",
    "label.DrawLatex(0.77, 7.0e4, \"#rho,#omega\")\n",
    "label.DrawLatex(1.20, 4.0e4, \"#phi\")\n",
    "label.DrawLatex(4.40, 1.0e5, \"J/#psi\")\n",
    "label.DrawLatex(4.60, 1.0e4, \"#psi'\")\n",
    "label.DrawLatex(12.0, 2.0e4, \"Y(1,2,3S)\")\n",
    "label.DrawLatex(91.0, 1.5e4, \"Z\")\n",
    "label.SetNDC(True)\n",
    "label.SetTextAlign(11)\n",
    "label.SetTextSize(0.04)\n",
    "label.DrawLatex(0.10, 0.92, \"#bf{CMS Open Data}\")\n",
    "label.SetTextAlign(31)\n",
    "label.DrawLatex(0.90, 0.92, \"#sqrt{s} = 8 TeV, L_{int} = 11.6 fb^{-1}\");"
   ]
  },
  {
   "cell_type": "code",
   "execution_count": null,
   "id": "cooked-superintendent",
   "metadata": {},
   "outputs": [],
   "source": [
    "%%time\n",
    "#%jsroot on\n",
    "c.Draw()"
   ]
  }
 ],
 "metadata": {
  "kernelspec": {
   "display_name": "Python 3",
   "language": "python",
   "name": "python3"
  },
  "language_info": {
   "codemirror_mode": {
    "name": "ipython",
    "version": 3
   },
   "file_extension": ".py",
   "mimetype": "text/x-python",
   "name": "python",
   "nbconvert_exporter": "python",
   "pygments_lexer": "ipython3",
   "version": "3.9.2"
  }
 },
 "nbformat": 4,
 "nbformat_minor": 5
}
