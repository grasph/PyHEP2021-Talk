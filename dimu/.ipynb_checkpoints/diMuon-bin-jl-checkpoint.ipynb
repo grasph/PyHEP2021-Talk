{
 "cells": [
  {
   "cell_type": "markdown",
   "id": "7f392f56-ce7e-44e0-877d-c044392970dc",
   "metadata": {},
   "source": [
    "# CMS Dimuon spectrum analyis in Julia\n",
    "\n",
    "Analysis running time: 25.6 s on my Laptop (i7-8550U CPU @ 1.80GHz, 4 cores, 8 GByte RAM, with SSD). The Python version took 4h54mn. RDataframe with Cling or Numba takes takes less time, but still long than Julia.\n"
   ]
  },
  {
   "cell_type": "markdown",
   "id": "1beb0e7a-ad3c-4f5d-acba-701fe0b2feb8",
   "metadata": {},
   "source": [
    "# Analysis of the di-muon spectrum using data from the CMS detector\n",
    "\n",
    "This analysis takes data from the CMS experiment recorded in 2012 during Run B and C and extracts the di-muon spectrum. The di-muon spectrum is computed from the data by calculating the invariant mass of muon pairs with opposite charge. In the resulting plot, you are able to rediscover particle resonances in a wide energy range from the [eta meson](https://en.wikipedia.org/wiki/Eta_meson) at about 548 MeV up to the [Z boson](https://en.wikipedia.org/wiki/W_and_Z_bosons) at about 91 GeV.\n",
    "\n",
    "The analysis code opens an interactive plot, which allows to zoom and navigate in the spectrum. Note that the bump at 30 GeV is not a resonance but an effect of the data taking due to the used trigger. The technical description of the dataset can be found in the respective record linked below.\n",
    "\n",
    "The result of this analysis can be compared with [an official result of the CMS collaboration using data taken in 2010](https://cds.cern.ch/record/1456510), see the plot below:\n",
    "\n",
    "![](http://cds.cern.ch/record/1456510/files/pictures_samples_dimuonSpectrum_40pb-1_mod-combined.png)"
   ]
  },
  {
   "cell_type": "markdown",
   "id": "77ca9f8c-191b-40b2-a304-cd4ff56d0398",
   "metadata": {},
   "source": [
    "# Dataset description\n",
    "\n",
    "The dataset consists of the following columns.\n",
    "\n",
    "| Column name | Data type | Description |\n",
    "|-------------|-----------|-------------|\n",
    "| `nMuon` | `unsigned int` | Number of muons in this event |\n",
    "| `Muon_pt` | `float[nMuon]` | Transverse momentum of the muons (stored as an array of size `nMuon`) |\n",
    "| `Muon_eta` | `float[nMuon]` | Pseudorapidity of the muons |\n",
    "| `Muon_phi` | `float[nMuon]` | Azimuth of the muons |\n",
    "| `Muon_mass` | `float[nMuon]` | Mass of the muons |\n",
    "| `Muon_charge` | `int[nMuon]` | Charge of the muons (either 1 or -1) |"
   ]
  },
  {
   "cell_type": "markdown",
   "id": "2e2264ef",
   "metadata": {},
   "source": [
    "## Some utilities we will need\n",
    "\n",
    "Define four-momentum and histogram tools"
   ]
  },
  {
   "cell_type": "code",
   "execution_count": 8,
   "id": "1586f179-4745-40a9-9b0a-39181b5dc3f0",
   "metadata": {},
   "outputs": [],
   "source": [
    "using NBInclude\n",
    "@nbinclude(\"JuliaUtils.ipynb\")"
   ]
  },
  {
   "cell_type": "markdown",
   "id": "33185ba2-9f9e-4f0a-8d5d-b8942602163c",
   "metadata": {},
   "source": [
    "## Download the data file\n",
    "\n",
    "To run this example, you need to download the file from [here](https://cernbox.cern.ch/index.php/s/pUf8RIQAGOELXVG) and save it with the name ``Muons.bin`` in the dimu directory containing this notebook. The file is 3.3GByte large."
   ]
  },
  {
   "cell_type": "markdown",
   "id": "de9d0bed",
   "metadata": {},
   "source": [
    "## Function to read the data"
   ]
  },
  {
   "cell_type": "code",
   "execution_count": 11,
   "id": "adopted-rwanda",
   "metadata": {},
   "outputs": [],
   "source": [
    "function read(func, fname, maxevents = -1)\n",
    "    ievt = fill(zero(Int32), (1))\n",
    "    nMuon = fill(zero(Int32), (1))\n",
    "    arr_size = 100\n",
    "    Muon = fill((; pt=zero(Float32), eta=zero(Float32), phi=zero(Float32), mass=zero(Float32), charge=zero(Int32)), (arr_size))\n",
    "    evtcnt = 0\n",
    "    open(fname) do io\n",
    "        while !eof(io) && (maxevents < 0 || evtcnt < maxevents)\n",
    "            n = read!(io, ievt)\n",
    "            if ievt[1] != evtcnt \n",
    "                error(\"Error while reading the file. $(ievt[1]) != $evtcnt\")\n",
    "            end\n",
    "            read!(io, nMuon)\n",
    "            if nMuon[1] > length(Muon)\n",
    "                resize!(Muon, nMuon[1])\n",
    "            end\n",
    "            Muon_ = @view(Muon[1:nMuon[1]])\n",
    "            read!(io, Muon_)\n",
    "            func(Muon_)\n",
    "            evtcnt = evtcnt + 1\n",
    "        end\n",
    "    end\n",
    "end\n",
    ";"
   ]
  },
  {
   "cell_type": "markdown",
   "id": "de45313d",
   "metadata": {},
   "source": [
    "## The dimuon analysis\n",
    "\n",
    "We loop on the events. The input file contains the muon collection of the event \n",
    "that we retrieve with the `read` method. Below the function that peforms this loop."
   ]
  },
  {
   "cell_type": "code",
   "execution_count": 12,
   "id": "duplicate-treaty",
   "metadata": {},
   "outputs": [],
   "source": [
    "function ana()\n",
    "    bins = 30_000 # Number of bins in the histogram\n",
    "    low = 0.25 # Lower edge of the histogram\n",
    "    up = 300.0 # Upper edge of the histogram\n",
    "    h = H1{Float64}(Axis(bins, low, up))\n",
    "    nPairs = 0\n",
    "    read(\"Muons.bin\", -1) do muons\n",
    "        length(muons) == 2 || return\n",
    "        muons[1].charge != muons[2].charge || return\n",
    "        dimuon_mass = m(ptetaphim(muons[1].pt, muons[1].eta, muons[1].phi, muons[1].mass)\n",
    "                    + ptetaphim(muons[2].pt, muons[2].eta, muons[2].phi, muons[2].mass))\n",
    "        hfill!(h, dimuon_mass)\n",
    "    end\n",
    "    return h\n",
    "end\n",
    ";"
   ]
  },
  {
   "cell_type": "markdown",
   "id": "opening-husband",
   "metadata": {},
   "source": [
    " \n",
    "### Notice the `do` construct in the above 💡\n",
    "\n",
    "The first parameter of the `read` method is a function and was omitted in the code above. The `do` operator constructs a lambda function that is passed as first parameter of the function.\n",
    "\n",
    "In Julia,\n",
    "\n",
    "```julia\n",
    "map(v) do x\n",
    "    2x\n",
    "end```\n",
    "\n",
    "is equivalent to\n",
    "\n",
    "```julia\n",
    "map(x->2x, v)\n",
    "```\n",
    "that will be implemented in Python as:\n",
    "\n",
    "```python\n",
    "map(lambda: x->2x, v)\n",
    "````\n",
    "\n",
    "and in modern c++\n",
    "\n",
    "```c++\n",
    "map([](auto x){return 2*x;}, v)\n",
    "```\n",
    "\n",
    "It provides a neat construct by moving the lambda function definition out of the parenthesis. It's used in place of the ''with'' Python constructs:  ``with open(\"file\") as io`` ⇒  ``open(\"file\") do io``"
   ]
  },
  {
   "cell_type": "markdown",
   "id": "9af64a7c",
   "metadata": {},
   "source": [
    "Let's time the analysis that took 4h 54min in Python on the same laptop I'm using now."
   ]
  },
  {
   "cell_type": "code",
   "execution_count": null,
   "id": "independent-timeline",
   "metadata": {
    "tags": []
   },
   "outputs": [],
   "source": [
    "@time h=ana();"
   ]
  },
  {
   "cell_type": "markdown",
   "id": "7c9632ca-be11-4583-a3c5-a3ef31549938",
   "metadata": {},
   "source": [
    "# Let's make the plot\n",
    "\n",
    "Julia has many plotting packages. The Gadfly package provides a common front-end to the different packages allowing easy switch from one package to another and promoting interface standardisation."
   ]
  },
  {
   "cell_type": "code",
   "execution_count": null,
   "id": "small-faith",
   "metadata": {
    "code_folding": [],
    "run_control": {
     "marked": false
    }
   },
   "outputs": [],
   "source": [
    "import Gadfly as gf\n",
    "p = gf.plot(x=xedges(h), y=vcat(h.sumw[2:end-1], [h.sumw[end-1]]), gf.Geom.step, \n",
    "        gf.Scale.x_log10(minvalue=0.25, maxvalue=300.), gf.Scale.y_log10,\n",
    "        gf.Guide.xlabel(\"Dimuon mass\"), gf.Guide.ylabel(\"Event count\"))"
   ]
  },
  {
   "cell_type": "markdown",
   "id": "9218d655",
   "metadata": {},
   "source": [
    "## Dataframe\n",
    "\n",
    "⚡ Julia support also DataFrame and an equivalent of Dask, so the analysis could also have been done with DataFrames. ⚡"
   ]
  },
  {
   "cell_type": "markdown",
   "id": "77470d07-7005-4bbb-a5fe-99be0e3d3423",
   "metadata": {},
   "source": [
    "[back to the presentation](01-Julia-dream-PyHEP2021.ipynb)"
   ]
  }
 ],
 "metadata": {
  "celltoolbar": "Edit Metadata",
  "kernelspec": {
   "display_name": "Julia 1.6.1",
   "language": "julia",
   "name": "julia-1.6"
  },
  "language_info": {
   "file_extension": ".jl",
   "mimetype": "application/julia",
   "name": "julia",
   "version": "1.6.1"
  }
 },
 "nbformat": 4,
 "nbformat_minor": 5
}
