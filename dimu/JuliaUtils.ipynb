{
 "cells": [
  {
   "cell_type": "markdown",
   "id": "0aa36419-45c7-4d77-87c9-f5af3dcfb423",
   "metadata": {},
   "source": [
    "# Utilities for the HEP data analysis examples"
   ]
  },
  {
   "cell_type": "markdown",
   "id": "1152197f-094f-467c-a550-91509db01ec6",
   "metadata": {},
   "source": [
    "## Four-momentum storage and math"
   ]
  },
  {
   "cell_type": "code",
   "execution_count": null,
   "id": "ae8e82d5-65cb-48ac-9204-89d38a36d472",
   "metadata": {
    "code_folding": [],
    "jupyter": {
     "source_hidden": true
    },
    "scrolled": true,
    "tags": []
   },
   "outputs": [],
   "source": [
    "struct P4{T}\n",
    "    px::T\n",
    "    py::T\n",
    "    pz::T\n",
    "    E::T\n",
    "end\n",
    "\n",
    "function ptetaphim(pt::T, eta::T, phi::T, m = zero(T)) where T\n",
    "    P4(pt*cos(phi), pt*sin(phi), pt*sinh(eta), sqrt(m^2 + (pt*cosh(eta))^2))\n",
    "end\n",
    "\n",
    "import Base.+\n",
    "\n",
    "m2(p4::P4{T}) where T = max(0, p4.E^2 - p4.px^2 -p4.py ^2 - p4.pz^2)\n",
    "\n",
    "m(p4::P4{T}) where T = sqrt(m2(p4))\n",
    "\n",
    "+(p1::P4{T}, p2::P4{T}) where T = P4(p1.px+p2.px, p1.py+p2.py, p1.pz+p2.pz, p1.E+p2.E)"
   ]
  },
  {
   "cell_type": "code",
   "execution_count": null,
   "id": "7c976e69-af24-4546-989e-4c2ce5793b4e",
   "metadata": {},
   "outputs": [],
   "source": [
    "## Histogramming"
   ]
  },
  {
   "cell_type": "code",
   "execution_count": 5,
   "id": "e476f511-9809-44d6-8181-5e23696291f5",
   "metadata": {
    "scrolled": true
   },
   "outputs": [],
   "source": [
    "\"\"\"\n",
    "    Axis\n",
    "\n",
    "Interface for histogram axes. The methods to be supported are listed in the table below.\n",
    "\n",
    "| Required Method | Description                                                                           |\n",
    "|-----------------|---------------------------------------------------------------------------------------|\n",
    "| edges(::Axis)   | Returns the boundaries of the binning along the axis. N+1 numbers of an axis of N bins|\n",
    "| binOf(::Axis)   | From a value along the axis dimension, return the index of the corresponding bin.     | \n",
    "\"\"\"\n",
    "abstract type Axis end\n",
    "\n",
    "\"\"\"\n",
    "   UniformAxis\n",
    "\n",
    "Axis with a uniform binning.\n",
    "\"\"\"\n",
    "mutable struct UniformAxis <: Axis\n",
    "    nbins::Int\n",
    "    xmin::Float64\n",
    "    xmax::Float64\n",
    "    _one_over_binw::Float64\n",
    "    function UniformAxis(nbins, xmin, xmax)\n",
    "        x = new(nbins, xmin, xmax)\n",
    "        x._one_over_binw = Float64(nbins) / (xmax-xmin)\n",
    "        x\n",
    "    end\n",
    "end\n",
    "\n",
    "\"\"\"\n",
    "    Axis(nbins::Int, xmin, xmax)\n",
    "\n",
    "Create a uniform bining axis (`UniformAxis`).\"\"\"\n",
    "Axis(nbins::Int, xmin, xmax) = UniformAxis(nbins, xmin, xmax)\n",
    "\n",
    "\"\"\"\n",
    "   edges(axis::UniformAxis)\n",
    "\n",
    "Returns the axis boundaries.\n",
    "\"\"\"\n",
    "edges(axis::UniformAxis) = collect(axis.xmin:((axis.xmax-axis.xmin) / axis.nbins):axis.xmax)\n",
    "\n",
    "\"\"\"\n",
    "binOf(axis::UniformAxis, x)\n",
    "\n",
    "Returns the index of the axis bin index corresponding to a value.\n",
    "\"\"\"\n",
    "binOf(axis::UniformAxis, x) = 2 + clamp(floor(typeof(axis.nbins), (x - axis.xmin) * axis._one_over_binw), -1, axis.nbins)\n",
    ";"
   ]
  },
  {
   "cell_type": "code",
   "execution_count": null,
   "id": "768e9e14-4aa7-44d1-aec8-2c10962e48e4",
   "metadata": {},
   "outputs": [],
   "source": [
    "\"\"\"\n",
    "    H1{T<:Number}\n",
    "\n",
    "    One-dimension histogram holding for each bin the sum of the event weights and of their square and\n",
    "for the whole histogram the total number of events.\n",
    "\"\"\"\n",
    "mutable struct H1{T<:Number}\n",
    "    xaxis::Axis\n",
    "    sumw::Array{T}\n",
    "    sumw2::Array{T}\n",
    "    entries::T\n",
    "    H1{T}(axis::UniformAxis) where T = new{T}(axis, zeros(T, axis.nbins+2), zeros(T, axis.nbins+2), zero(T))\n",
    "end\n",
    "\n",
    "\"\"\"\n",
    "    hfill!(h::H1{T}, x::U, w::U = one(U))\n",
    "\n",
    "Fill an 1-D histogram with a weighted event.\n",
    "\"\"\"\n",
    "function hfill!(h::H1{T}, x::U, w::U = one(U)) where T where U\n",
    "    ibin = binOf(h.xaxis, x)\n",
    "    h.sumw[ibin] += w\n",
    "    h.sumw2[ibin] += w*w\n",
    "end\n",
    "    \n",
    "\"\"\"\n",
    "    xedges(h::H1{T})\n",
    "\n",
    "Returns the bin boundaries of x-axis of an histogram. A shortcut for `edges(h.axis)`.\n",
    "\"\"\"\n",
    "xedges(h::H1) where T = edges(h.xaxis)\n",
    ";"
   ]
  }
 ],
 "metadata": {
  "kernelspec": {
   "display_name": "Julia 1.6.1",
   "language": "julia",
   "name": "julia-1.6"
  },
  "language_info": {
   "file_extension": ".jl",
   "mimetype": "application/julia",
   "name": "julia",
   "version": "1.6.1"
  }
 },
 "nbformat": 4,
 "nbformat_minor": 5
}
