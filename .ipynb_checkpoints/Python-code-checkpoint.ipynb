{
 "cells": [
  {
   "cell_type": "markdown",
   "id": "c3908552-6dee-4767-830a-274c61bf7ee1",
   "metadata": {},
   "source": [
    "<a href=\"simple-loop\"></a>\n",
    "    \n",
    "# Simple loop example"
   ]
  },
  {
   "cell_type": "code",
   "execution_count": 41,
   "id": "17ea0d9f-5134-418d-a057-65bfc5bba7a4",
   "metadata": {},
   "outputs": [],
   "source": [
    "def f():\n",
    "    a = 0.\n",
    "    for i in range(1, 1000*1000 +1):\n",
    "       a = a + 1.0/i\n",
    "    print(i)\n",
    "    return a"
   ]
  },
  {
   "cell_type": "code",
   "execution_count": 42,
   "id": "83dc3089-0828-44a1-a257-27e14f1c01e6",
   "metadata": {},
   "outputs": [
    {
     "name": "stdout",
     "output_type": "stream",
     "text": [
      "1000000\n",
      "14.392726722864989\n",
      "CPU times: user 91.5 ms, sys: 511 µs, total: 92.1 ms\n",
      "Wall time: 90.3 ms\n"
     ]
    }
   ],
   "source": [
    "%%time\n",
    "print(f())\n"
   ]
  }
 ],
 "metadata": {
  "kernelspec": {
   "display_name": "Python 3",
   "language": "python",
   "name": "python3"
  },
  "language_info": {
   "codemirror_mode": {
    "name": "ipython",
    "version": 3
   },
   "file_extension": ".py",
   "mimetype": "text/x-python",
   "name": "python",
   "nbconvert_exporter": "python",
   "pygments_lexer": "ipython3",
   "version": "3.9.2"
  }
 },
 "nbformat": 4,
 "nbformat_minor": 5
}
